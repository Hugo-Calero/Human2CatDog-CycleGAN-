{
 "cells": [
  {
   "cell_type": "code",
   "execution_count": null,
   "id": "d6063f21",
   "metadata": {
    "colab": {
     "base_uri": "https://localhost:8080/"
    },
    "id": "d6063f21",
    "outputId": "911a13d5-e238-44cc-fadb-bc6831250365"
   },
   "outputs": [],
   "source": [
    "from google.colab import drive\n",
    "drive.mount('/content/drive')"
   ]
  },
  {
   "cell_type": "code",
   "execution_count": null,
   "id": "2d4fde12",
   "metadata": {
    "ExecuteTime": {
     "end_time": "2023-02-15T09:07:28.549071Z",
     "start_time": "2023-02-15T09:07:10.064415Z"
    },
    "id": "2d4fde12"
   },
   "outputs": [],
   "source": [
    "import pandas as pd\n",
    "import shutil\n",
    "import os \n",
    "import zipfile\n",
    "import numpy as np\n",
    "import glob\n",
    "from matplotlib import pyplot as plt\n",
    "from random import sample\n",
    "from random import random\n",
    "from numpy.random import randint\n",
    "from tensorflow.keras.models import load_model\n",
    "from tensorflow.keras.optimizers import Adam\n",
    "from tensorflow.keras.initializers import RandomNormal\n",
    "from tensorflow.keras.models import Sequential\n",
    "from tensorflow.keras.models import Model\n",
    "from tensorflow.keras.layers import Input\n",
    "from tensorflow.keras.layers import Conv2D\n",
    "from tensorflow.keras.layers import Conv2DTranspose\n",
    "from tensorflow.keras.layers import LeakyReLU\n",
    "from tensorflow.keras.layers import Activation\n",
    "from tensorflow.keras.layers import Concatenate\n",
    "from tensorflow.keras.layers import Flatten\n",
    "from tensorflow.keras.layers import Dense\n",
    "from tensorflow.keras.utils import img_to_array\n",
    "from tensorflow.keras.utils import load_img\n",
    "from matplotlib import pyplot\n",
    "from os import listdir\n",
    "from numpy import asarray\n",
    "from numpy import vstack\n",
    "from numpy import savez_compressed\n",
    "from PIL import Image \n",
    "import collections\n",
    "from random import random\n",
    "from numpy import load\n",
    "from numpy import zeros\n",
    "from numpy import ones\n",
    "from numpy import asarray\n",
    "from numpy.random import randint\n",
    "from keras.optimizers import Adam\n",
    "from keras.initializers import RandomNormal\n",
    "from keras.models import Model\n",
    "from keras.layers import Conv2D\n",
    "from keras.layers import Conv2DTranspose\n",
    "from keras.layers import LeakyReLU\n",
    "from keras.layers import Activation\n",
    "from keras.layers import Concatenate"
   ]
  },
  {
   "cell_type": "code",
   "execution_count": null,
   "id": "64703ce4",
   "metadata": {
    "ExecuteTime": {
     "end_time": "2023-02-15T12:11:01.662959Z",
     "start_time": "2023-02-15T12:11:01.638314Z"
    },
    "id": "64703ce4"
   },
   "outputs": [],
   "source": [
    "#loading zipped file\n",
    "data = np.load('drive/MyDrive/CycleGan_data/humans_and_animals_100100.npz')"
   ]
  },
  {
   "cell_type": "code",
   "execution_count": null,
   "id": "d93e694d",
   "metadata": {
    "ExecuteTime": {
     "end_time": "2023-02-15T12:10:49.071685Z",
     "start_time": "2023-02-15T12:09:34.752587Z"
    },
    "colab": {
     "base_uri": "https://localhost:8080/"
    },
    "id": "d93e694d",
    "outputId": "aea6e265-7fc9-4864-e958-5a14148749c8"
   },
   "outputs": [],
   "source": [
    "#assigning numpy arrays\n",
    "human, ani = data['arr_0'], data['arr_1']\n",
    "\n",
    "print(human.shape)\n",
    "print(ani.shape)"
   ]
  },
  {
   "cell_type": "code",
   "execution_count": null,
   "id": "4e0af9fa",
   "metadata": {
    "ExecuteTime": {
     "end_time": "2023-02-15T12:10:52.623709Z",
     "start_time": "2023-02-15T12:10:49.251515Z"
    },
    "colab": {
     "base_uri": "https://localhost:8080/",
     "height": 296
    },
    "id": "4e0af9fa",
    "outputId": "f029892d-e0ef-493e-aee3-64c6670de550"
   },
   "outputs": [],
   "source": [
    "fig, axs = plt.subplots(2, 3)\n",
    "fig.tight_layout(pad=1.0)\n",
    "for i in range(3):\n",
    "    axs[0, i].imshow(human[i+10].astype('uint8'))\n",
    "    axs[0, i].set_title('Source')\n",
    "    axs[1, i].imshow(ani[i+10].astype('uint8'))\n",
    "    axs[1, i].set_title('Target')"
   ]
  },
  {
   "cell_type": "code",
   "execution_count": null,
   "id": "wbT8BFGijNmB",
   "metadata": {
    "colab": {
     "base_uri": "https://localhost:8080/"
    },
    "id": "wbT8BFGijNmB",
    "outputId": "2e9feb22-3728-4aac-df84-5077ffdb0a90"
   },
   "outputs": [],
   "source": [
    "pip install git+https://www.github.com/keras-team/keras-contrib.git"
   ]
  },
  {
   "cell_type": "code",
   "execution_count": null,
   "id": "84606f5b",
   "metadata": {
    "id": "84606f5b"
   },
   "outputs": [],
   "source": [
    "from keras_contrib.layers.normalization.instancenormalization import InstanceNormalization\n",
    "# define layer\n",
    "layer = InstanceNormalization(axis=-1)\n",
    "\n",
    "# define the discriminator model\n",
    "def define_discriminator(image_shape):\n",
    "\t# weight initialization\n",
    "\tinit = RandomNormal(stddev=0.02)\n",
    "\t# source image input\n",
    "\tin_image = Input(shape=image_shape)\n",
    "\t# C64\n",
    "\td = Conv2D(64, (4,4), strides=(2,2), padding='same', kernel_initializer=init)(in_image)\n",
    "\td = LeakyReLU(alpha=0.2)(d)\n",
    "\t# C128\n",
    "\td = Conv2D(128, (4,4), strides=(2,2), padding='same', kernel_initializer=init)(d)\n",
    "\td = InstanceNormalization(axis=-1)(d)\n",
    "\td = LeakyReLU(alpha=0.2)(d)\n",
    "\t# C256\n",
    "\td = Conv2D(256, (4,4), strides=(2,2), padding='same', kernel_initializer=init)(d)\n",
    "\td = InstanceNormalization(axis=-1)(d)\n",
    "\td = LeakyReLU(alpha=0.2)(d)\n",
    "\t# C512\n",
    "\td = Conv2D(512, (4,4), strides=(2,2), padding='same', kernel_initializer=init)(d)\n",
    "\td = InstanceNormalization(axis=-1)(d)\n",
    "\td = LeakyReLU(alpha=0.2)(d)\n",
    "\t# second last output layer\n",
    "\td = Conv2D(512, (4,4), padding='same', kernel_initializer=init)(d)\n",
    "\td = InstanceNormalization(axis=-1)(d)\n",
    "\td = LeakyReLU(alpha=0.2)(d)\n",
    "\t# patch output\n",
    "\tpatch_out = Conv2D(1, (4,4), padding='same', kernel_initializer=init)(d)\n",
    "\t# define model\n",
    "\tmodel = Model(in_image, patch_out)\n",
    "\t# compile model\n",
    "\tmodel.compile(loss='mse', optimizer=Adam(lr=0.0002, beta_1=0.5), loss_weights=[0.5])\n",
    "\treturn model\n",
    "\n",
    "# generator a resnet block\n",
    "def resnet_block(n_filters, input_layer):\n",
    "\t# weight initialization\n",
    "\tinit = RandomNormal(stddev=0.02)\n",
    "\t# first layer convolutional layer\n",
    "\tg = Conv2D(n_filters, (3,3), padding='same', kernel_initializer=init)(input_layer)\n",
    "\tg = InstanceNormalization(axis=-1)(g)\n",
    "\tg = Activation('relu')(g)\n",
    "\t# second convolutional layer\n",
    "\tg = Conv2D(n_filters, (3,3), padding='same', kernel_initializer=init)(g)\n",
    "\tg = InstanceNormalization(axis=-1)(g)\n",
    "\t# concatenate merge channel-wise with input layer\n",
    "\tg = Concatenate()([g, input_layer])\n",
    "\treturn g\n",
    "\n",
    "# define the standalone generator model\n",
    "def define_generator(image_shape, n_resnet=9):\n",
    "\t# weight initialization\n",
    "\tinit = RandomNormal(stddev=0.02)\n",
    "\t# image input\n",
    "\tin_image = Input(shape=image_shape)\n",
    "\t# c7s1-64\n",
    "\tg = Conv2D(64, (7,7), padding='same', kernel_initializer=init)(in_image)\n",
    "\tg = InstanceNormalization(axis=-1)(g)\n",
    "\tg = Activation('relu')(g)\n",
    "\t# d128\n",
    "\tg = Conv2D(128, (3,3), strides=(2,2), padding='same', kernel_initializer=init)(g)\n",
    "\tg = InstanceNormalization(axis=-1)(g)\n",
    "\tg = Activation('relu')(g)\n",
    "\t# d256\n",
    "\tg = Conv2D(256, (3,3), strides=(2,2), padding='same', kernel_initializer=init)(g)\n",
    "\tg = InstanceNormalization(axis=-1)(g)\n",
    "\tg = Activation('relu')(g)\n",
    "\t# R256\n",
    "\tfor _ in range(n_resnet):\n",
    "\t\tg = resnet_block(256, g)\n",
    "\t# u128\n",
    "\tg = Conv2DTranspose(128, (3,3), strides=(2,2), padding='same', kernel_initializer=init)(g)\n",
    "\tg = InstanceNormalization(axis=-1)(g)\n",
    "\tg = Activation('relu')(g)\n",
    "\t# u64\n",
    "\tg = Conv2DTranspose(64, (3,3), strides=(2,2), padding='same', kernel_initializer=init)(g)\n",
    "\tg = InstanceNormalization(axis=-1)(g)\n",
    "\tg = Activation('relu')(g)\n",
    "\t# c7s1-3\n",
    "\tg = Conv2D(3, (7,7), padding='same', kernel_initializer=init)(g)\n",
    "\tg = InstanceNormalization(axis=-1)(g)\n",
    "\tout_image = Activation('tanh')(g)\n",
    "\t# define model\n",
    "\tmodel = Model(in_image, out_image)\n",
    "\treturn model\n",
    "\n",
    "# define a composite model for updating generators by adversarial and cycle loss\n",
    "def define_composite_model(g_model_1, d_model, g_model_2, image_shape, filepath='NULL'):\n",
    "\t# ensure the model we're updating is trainable\n",
    "\tg_model_1.trainable = True\n",
    "\t# mark discriminator as not trainable\n",
    "\td_model.trainable = False\n",
    "\t# mark other generator model as not trainable\n",
    "\tg_model_2.trainable = False\n",
    "\t# discriminator element\n",
    "\tinput_gen = Input(shape=image_shape)\n",
    "\tgen1_out = g_model_1(input_gen)\n",
    "\toutput_d = d_model(gen1_out)\n",
    "\t# identity element\n",
    "\tinput_id = Input(shape=image_shape)\n",
    "\toutput_id = g_model_1(input_id)\n",
    "\t# forward cycle\n",
    "\toutput_f = g_model_2(gen1_out)\n",
    "\t# backward cycle\n",
    "\tgen2_out = g_model_2(input_id)\n",
    "\toutput_b = g_model_1(gen2_out)\n",
    "\t# define model graph\n",
    "\tmodel = Model([input_gen, input_id], [output_d, output_id, output_f, output_b])\n",
    "\t# define optimization algorithm configuration\n",
    "\topt = Adam(lr=0.0001, beta_1=0.5)\n",
    "  ## loading in previous weights from crashed training run\n",
    "\t# compile model with weighting of least squares loss and L1 loss\n",
    "\tmodel.compile(loss=['mse', 'mae', 'mae', 'mae'], loss_weights=[1, 5, 10, 10], optimizer=opt)\n",
    "\tif filepath != 'NULL':\n",
    "\t\tmodel.load_weights(filepath)\n",
    "\treturn model\n",
    "\n",
    "# load and prepare training images\n",
    "def load_real_samples(filename):\n",
    "\t# load the dataset\n",
    "\tdata = np.load(filename)\n",
    "\t# unpack arrays\n",
    "\tX1, X2 = data['arr_0'], data['arr_1']\n",
    "\t# scale from [0,255] to [-1,1]\n",
    "\tX1 = (X1 - 127.5) / 127.5\n",
    "\tX2 = (X2 - 127.5) / 127.5\n",
    "\treturn [X1, X2]\n",
    "\n",
    "# select a batch of random samples, returns images and target\n",
    "def generate_real_samples(dataset, n_samples, patch_shape):\n",
    "\t# choose random instances\n",
    "\tix = randint(0, dataset.shape[0], n_samples)\n",
    "\t# retrieve selected images\n",
    "\tX = dataset[ix]\n",
    "\t# generate 'real' class labels (1)\n",
    "\ty = np.ones((n_samples, patch_shape, patch_shape, 1))\n",
    "\treturn X, y\n",
    "\n",
    "# generate a batch of images, returns images and targets\n",
    "def generate_fake_samples(g_model, dataset, patch_shape):\n",
    "\t# generate fake instance\n",
    "\tX = g_model.predict(dataset)\n",
    "\t# create 'fake' class labels (0)\n",
    "\ty = np.zeros((len(X), patch_shape, patch_shape, 1))\n",
    "\treturn X, y\n",
    "\n",
    "# save the models to file\n",
    "def save_weights(step, g_model_AtoB, g_model_BtoA, d_model_A, d_model_B, c_model_AtoB, c_model_BtoA):\n",
    "\t# save the first generator model\n",
    "\tfilename1 = 'drive/MyDrive/CycleGan_data/new_weights/g_model_AtoB_%07d.h5' % (step+1)\n",
    "\tg_model_AtoB.save_weights(filename1)\n",
    "\t# save the second generator model\n",
    "\tfilename2 = 'drive/MyDrive/CycleGan_data/new_weights/g_model_BtoA_%07d.h5' % (step+1)\n",
    "\tg_model_BtoA.save_weights(filename2)\n",
    " # save the first generator model\n",
    "\tfilename1 = 'drive/MyDrive/CycleGan_data/new_weights/d_model_A_%07d.h5' % (step+1)\n",
    "\td_model_A.save_weights(filename1)\n",
    "\t# save the second generator model\n",
    "\tfilename2 = 'drive/MyDrive/CycleGan_data/new_weights/d_model_B_%07d.h5' % (step+1)\n",
    "\td_model_B.save_weights(filename2)\n",
    " # save the first generator model\n",
    "\tfilename1 = 'drive/MyDrive/CycleGan_data/new_weights/c_model_AtoB_%07d.h5' % (step+1)\n",
    "\tc_model_AtoB.save_weights(filename1)\n",
    "\t# save the second generator model\n",
    "\tfilename2 = 'drive/MyDrive/CycleGan_data/new_weights/c_model_BtoA_%07d.h5' % (step+1)\n",
    "\tc_model_BtoA.save_weights(filename2)\n",
    "\tprint('>Saved: %s and %s' % (filename1, filename2))\n",
    "\n",
    "# generate samples and save as a plot and save the model\n",
    "def summarize_performance(step, g_model, trainX, name, n_samples=5):\n",
    "\t# select a sample of input images\n",
    "\tX_in, _ = generate_real_samples(trainX, n_samples, 0)\n",
    "\t# generate translated images\n",
    "\tX_out, _ = generate_fake_samples(g_model, X_in, 0)\n",
    "\t# scale all pixels from [-1,1] to [0,1]\n",
    "\tX_in = (X_in + 1) / 2.0\n",
    "\tX_out = (X_out + 1) / 2.0\n",
    "\t# plot real images\n",
    "\tfor i in range(n_samples):\n",
    "\t\tplt.subplot(2, n_samples, 1 + i)\n",
    "\t\tplt.axis('off')\n",
    "\t\tplt.imshow(X_in[i])\n",
    "\t# plot translated image\n",
    "\tfor i in range(n_samples):\n",
    "\t\tplt.subplot(2, n_samples, 1 + n_samples + i)\n",
    "\t\tplt.axis('off')\n",
    "\t\tplt.imshow(X_out[i])\n",
    "\t# save plot to file\n",
    "\tfilename1 = 'drive/MyDrive/CycleGan_data/new_ima/%s_generated_plot_%07d.png' % (name, (step+1))\n",
    "\tplt.savefig(filename1)\n",
    "\tplt.close()\n",
    "\n",
    "# update image pool for fake images\n",
    "def update_image_pool(pool, images, max_size=50):\n",
    "\tselected = list()\n",
    "\tfor image in images:\n",
    "\t\tif len(pool) < max_size:\n",
    "\t\t\t# stock the pool\n",
    "\t\t\tpool.append(image)\n",
    "\t\t\tselected.append(image)\n",
    "\t\telif np.random.rand() < 0.5:\n",
    "\t\t\t# use image, but don't add it to the pool\n",
    "\t\t\tselected.append(image)\n",
    "\t\telse:\n",
    "\t\t\t# replace an existing image and use replaced image\n",
    "\t\t\tix = randint(0, len(pool))\n",
    "\t\t\tselected.append(pool[ix])\n",
    "\t\t\tpool[ix] = image\n",
    "\treturn np.asarray(selected)\n",
    "\n",
    "# train cyclegan models\n",
    "def train(d_model_A, d_model_B, g_model_AtoB, g_model_BtoA, c_model_AtoB, c_model_BtoA, dataset):\n",
    "\t# define properties of the training run\n",
    "\tn_epochs, n_batch, = 1, 1\n",
    "\t# determine the output square shape of the discriminator\n",
    "\tn_patch = d_model_A.output_shape[1]\n",
    "\t# unpack dataset\n",
    "\ttrainA, trainB = dataset\n",
    "\t# prepare image pool for fakes\n",
    "\tpoolA, poolB = list(), list()\n",
    "\t# calculate the number of batches per training epoch\n",
    "\tbat_per_epo = int(len(trainA) / n_batch)\n",
    "\t# calculate the number of training iterations\n",
    "\tn_steps = bat_per_epo * n_epochs\n",
    "\t# manually enumerate epochs\n",
    "\tfor i in range(n_steps):\n",
    "\t\t# select a batch of real samples\n",
    "\t\tX_realA, y_realA = generate_real_samples(trainA, n_batch, n_patch)\n",
    "\t\tX_realB, y_realB = generate_real_samples(trainB, n_batch, n_patch)\n",
    "\t\t# generate a batch of fake samples\n",
    "\t\tX_fakeA, y_fakeA = generate_fake_samples(g_model_BtoA, X_realB, n_patch)\n",
    "\t\tX_fakeB, y_fakeB = generate_fake_samples(g_model_AtoB, X_realA, n_patch)\n",
    "\t\t# update fakes from pool\n",
    "\t\tX_fakeA = update_image_pool(poolA, X_fakeA)\n",
    "\t\tX_fakeB = update_image_pool(poolB, X_fakeB)\n",
    "\t\t# update generator B->A via adversarial and cycle loss\n",
    "\t\tg_loss2, _, _, _, _  = c_model_BtoA.train_on_batch([X_realB, X_realA], [y_realA, X_realA, X_realB, X_realA])\n",
    "\t\t# update discriminator for A -> [real/fake]\n",
    "\t\tdA_loss1 = d_model_A.train_on_batch(X_realA, y_realA)\n",
    "\t\tdA_loss2 = d_model_A.train_on_batch(X_fakeA, y_fakeA)\n",
    "\t\t# update generator A->B via adversarial and cycle loss\n",
    "\t\tg_loss1, _, _, _, _ = c_model_AtoB.train_on_batch([X_realA, X_realB], [y_realB, X_realB, X_realA, X_realB])\n",
    "\t\t# update discriminator for B -> [real/fake]\n",
    "\t\tdB_loss1 = d_model_B.train_on_batch(X_realB, y_realB)\n",
    "\t\tdB_loss2 = d_model_B.train_on_batch(X_fakeB, y_fakeB)\n",
    "\t\t# summarize performance\n",
    "\t\tprint('>%d, dA[%.3f,%.3f] dB[%.3f,%.3f] g[%.3f,%.3f]' % (i+1, dA_loss1,dA_loss2, dB_loss1,dB_loss2, g_loss1,g_loss2))\n",
    "\t\t# evaluate the model performance every so often\n",
    "\t\tif (i+1) % 5000 == 0:\n",
    "\t\t\t# plot A->B translation\n",
    "\t\t\tsummarize_performance(i, g_model_AtoB, trainA, 'AtoB')\n",
    "\t\t\t# plot B->A translation\n",
    "\t\t\tsummarize_performance(i, g_model_BtoA, trainB, 'BtoA')\n",
    "\t\tif (i+1) % 5000 == 0:\n",
    "\t\t\t# save the models\n",
    "\t\t\tsave_weights(i, g_model_AtoB, g_model_BtoA, d_model_A, d_model_B, c_model_AtoB, c_model_BtoA)\n"
   ]
  },
  {
   "cell_type": "code",
   "execution_count": null,
   "id": "IksfjgNYlHFQ",
   "metadata": {
    "id": "IksfjgNYlHFQ"
   },
   "outputs": [],
   "source": [
    "from numpy import load"
   ]
  },
  {
   "cell_type": "code",
   "execution_count": null,
   "id": "fKGn5V7t_KeB",
   "metadata": {
    "colab": {
     "base_uri": "https://localhost:8080/"
    },
    "id": "fKGn5V7t_KeB",
    "outputId": "45c126ef-0c21-4edd-fe8f-044df0e91332"
   },
   "outputs": [],
   "source": [
    "# load image data\n",
    "dataset = load_real_samples('/content/drive/MyDrive/CycleGan_data/humans_and_animals_100100.npz')\n",
    "print('Loaded', dataset[0].shape, dataset[1].shape)"
   ]
  },
  {
   "cell_type": "markdown",
   "id": "NmeiFNAVDZrb",
   "metadata": {
    "id": "NmeiFNAVDZrb"
   },
   "source": [
    "# TRAINING THE MODEL"
   ]
  },
  {
   "cell_type": "code",
   "execution_count": null,
   "id": "OHpXl0le9X5L",
   "metadata": {
    "colab": {
     "base_uri": "https://localhost:8080/"
    },
    "id": "OHpXl0le9X5L",
    "outputId": "bd205dd0-3377-4d09-fd5b-932009eaa996"
   },
   "outputs": [],
   "source": [
    "image_shape = dataset[0].shape[1:]\n",
    "# generator: A -> B\n",
    "g_model_AtoB = define_generator(image_shape)\n",
    "g_model_AtoB.load_weights('/content/drive/MyDrive/CycleGan_data/weights/g_model_AtoB_0030000.h5') \n",
    "# generator: B -> A\n",
    "g_model_BtoA = define_generator(image_shape)\n",
    "g_model_BtoA.load_weights('/content/drive/MyDrive/CycleGan_data/weights/g_model_BtoA_0030000.h5')\n",
    "# discriminator: A -> [real/fake]\n",
    "d_model_A = define_discriminator(image_shape)\n",
    "d_model_A.load_weights('/content/drive/MyDrive/CycleGan_data/weights/d_model_A_0030000.h5')\n",
    "# discriminator: B -> [real/fake]\n",
    "d_model_B = define_discriminator(image_shape)\n",
    "d_model_B.load_weights('/content/drive/MyDrive/CycleGan_data/weights/d_model_B_0030000.h5')\n",
    "# composite: A -> B -> [real/fake, A]\n",
    "c_model_AtoB = define_composite_model(g_model_AtoB, d_model_B, g_model_BtoA, image_shape)\n",
    "c_model_AtoB.load_weights('/content/drive/MyDrive/CycleGan_data/weights/c_model_AtoB_0030000.h5')\n",
    "# composite: B -> A -> [real/fake, B]\n",
    "c_model_BtoA = define_composite_model(g_model_BtoA, d_model_A, g_model_AtoB, image_shape)\n",
    "c_model_BtoA.load_weights('/content/drive/MyDrive/CycleGan_data/weights/c_model_BtoA_0030000.h5')"
   ]
  },
  {
   "cell_type": "code",
   "execution_count": null,
   "id": "LMluT-oi-F9M",
   "metadata": {
    "id": "LMluT-oi-F9M"
   },
   "outputs": [],
   "source": [
    "# train models\n",
    "train(d_model_A, d_model_B, g_model_AtoB, g_model_BtoA, c_model_AtoB, c_model_BtoA, dataset)"
   ]
  },
  {
   "cell_type": "markdown",
   "id": "61fb8d41",
   "metadata": {
    "id": "61fb8d41"
   },
   "source": [
    "# GENERATE TRANSLATIONS"
   ]
  },
  {
   "cell_type": "code",
   "execution_count": null,
   "id": "b86ae400",
   "metadata": {
    "id": "b86ae400"
   },
   "outputs": [],
   "source": [
    "def load_image(file):\n",
    "    pix = img_to_array(load_img(file, target_size = (100,100)))\n",
    "    pixex = np.expand_dims(pix, 0)\n",
    "    results = (pixex-127.5)/127.5\n",
    "    return results"
   ]
  },
  {
   "cell_type": "code",
   "execution_count": null,
   "id": "4a2a6a41",
   "metadata": {
    "id": "4a2a6a41"
   },
   "outputs": [],
   "source": [
    "def plot_res(A, B):\n",
    "    fig = plt.figure()\n",
    "    ax1 = fig.add_subplot(2,2,1)\n",
    "    ax1.set_title('Real')\n",
    "    ax1.imshow(A)\n",
    "    ax2 = fig.add_subplot(2,2,2)\n",
    "    ax2.set_title('Translation')\n",
    "    ax2.imshow(B)"
   ]
  },
  {
   "cell_type": "code",
   "execution_count": null,
   "id": "01e0afa3",
   "metadata": {
    "id": "01e0afa3"
   },
   "outputs": [],
   "source": [
    "def translator(path2weights, path2im):\n",
    "    cust = {'InstanceNormalization': InstanceNormalization}\n",
    "    g_model_AtoB = define_generator(image_shape)\n",
    "    g_model_AtoB.load_weights(path2weights) # load pretrained weights here\n",
    "    \n",
    "    image = load_image(path2im)\n",
    "\n",
    "    image_transAB = g_model_AtoB.predict(image)\n",
    "    image_transAB = (image_transAB + 1) / 2\n",
    "    plot_res(image[0],image_transAB[0])"
   ]
  },
  {
   "cell_type": "code",
   "execution_count": null,
   "id": "dYvN_NnCxJxA",
   "metadata": {
    "colab": {
     "base_uri": "https://localhost:8080/",
     "height": 740
    },
    "id": "dYvN_NnCxJxA",
    "outputId": "8f2e7e02-31af-4a14-f4f1-6b3ec5256cf0"
   },
   "outputs": [],
   "source": [
    "translator('/content/drive/MyDrive/CycleGan_data/new_weights/g_model_AtoB_0065000.h5','/content/drive/MyDrive/CycleGan_data/test_images/Stephen_cropped.png' )\n",
    "translator('/content/drive/MyDrive/CycleGan_data/new_weights/g_model_AtoB_0065000.h5','/content/drive/MyDrive/CycleGan_data/test_images/David_cropped.png' )\n",
    "translator('/content/drive/MyDrive/CycleGan_data/new_weights/g_model_AtoB_0065000.h5','/content/drive/MyDrive/CycleGan_data/test_images/Tong_cropped.png' )\n",
    "translator('/content/drive/MyDrive/CycleGan_data/new_weights/g_model_AtoB_0065000.h5','/content/drive/MyDrive/CycleGan_data/test_images/Amir_cropped.png' )"
   ]
  }
 ],
 "metadata": {
  "accelerator": "GPU",
  "colab": {
   "machine_shape": "hm",
   "provenance": []
  },
  "gpuClass": "premium",
  "hide_input": false,
  "kernelspec": {
   "display_name": "Python 3 (ipykernel)",
   "language": "python",
   "name": "python3"
  },
  "language_info": {
   "codemirror_mode": {
    "name": "ipython",
    "version": 3
   },
   "file_extension": ".py",
   "mimetype": "text/x-python",
   "name": "python",
   "nbconvert_exporter": "python",
   "pygments_lexer": "ipython3",
   "version": "3.9.13"
  },
  "toc": {
   "base_numbering": 1,
   "nav_menu": {},
   "number_sections": true,
   "sideBar": true,
   "skip_h1_title": false,
   "title_cell": "Table of Contents",
   "title_sidebar": "Contents",
   "toc_cell": false,
   "toc_position": {},
   "toc_section_display": true,
   "toc_window_display": false
  },
  "varInspector": {
   "cols": {
    "lenName": 16,
    "lenType": 16,
    "lenVar": 40
   },
   "kernels_config": {
    "python": {
     "delete_cmd_postfix": "",
     "delete_cmd_prefix": "del ",
     "library": "var_list.py",
     "varRefreshCmd": "print(var_dic_list())"
    },
    "r": {
     "delete_cmd_postfix": ") ",
     "delete_cmd_prefix": "rm(",
     "library": "var_list.r",
     "varRefreshCmd": "cat(var_dic_list()) "
    }
   },
   "types_to_exclude": [
    "module",
    "function",
    "builtin_function_or_method",
    "instance",
    "_Feature"
   ],
   "window_display": false
  }
 },
 "nbformat": 4,
 "nbformat_minor": 5
}
